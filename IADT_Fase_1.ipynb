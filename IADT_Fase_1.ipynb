{
 "cells": [
  {
   "cell_type": "markdown",
   "metadata": {},
   "source": [
    "# Contexto"
   ]
  },
  {
   "cell_type": "markdown",
   "metadata": {},
   "source": [
    "## Objetivo\n",
    "\n",
    "Este projeto foi desenvolvido como parte do desafio do **IADT — Fase 1**. O objetivo é desenvolver modelos preditivos para estimar os **custos médicos individuais** cobrados por seguros de saúde, com base em atributos como:\n",
    "\n",
    "- Idade\n",
    "- Índice de massa corporal (IMC)\n",
    "- Número de filhos\n",
    "- Tabagismo\n",
    "- Sexo\n",
    "- Região geográfica\n",
    "\n",
    "Trata-se de um problema de **regressão supervisionada**, com variável alvo contínua (custos médicos), abordado com modelos lineares e baseados em árvores de decisão.\n"
   ]
  },
  {
   "cell_type": "markdown",
   "metadata": {},
   "source": [
    "## Fonte de Dados\n",
    "\n",
    "O conjunto de dados foi obtido na plataforma **Kaggle**, disponível no repositório [\"Healthcare Insurance\"](https://www.kaggle.com/datasets/willianoliveiragibin/healthcare-insurance).\n"
   ]
  },
  {
   "cell_type": "markdown",
   "metadata": {},
   "source": [
    "## Modelos Utilizados\n",
    "\n",
    "- Linear Regression\n",
    "- Ridge Regression\n",
    "- Lasso Regression\n",
    "- Decision Tree Regressor\n",
    "- Random Forest Regressor\n",
    "- Gradient Boosting Regressor\n",
    "- Ordinary Least Squares (OLS)\n"
   ]
  },
  {
   "cell_type": "markdown",
   "metadata": {
    "id": "mFhYZw3y2ATa"
   },
   "source": [
    "# Setup"
   ]
  },
  {
   "cell_type": "markdown",
   "metadata": {},
   "source": [
    "## Instalação de Dependências"
   ]
  },
  {
   "cell_type": "code",
   "execution_count": null,
   "metadata": {
    "colab": {
     "base_uri": "https://localhost:8080/"
    },
    "id": "HqJQKDRgppBt",
    "outputId": "0075a0a4-dcb3-4dc2-c75c-7c5b675e0818"
   },
   "outputs": [],
   "source": [
    "# Instalação das bibliotecas necessárias para o projeto\n",
    "! pip install --quiet pandas numpy matplotlib seaborn scikit-learn statsmodels kagglehub joblib"
   ]
  },
  {
   "cell_type": "markdown",
   "metadata": {},
   "source": [
    "## Importação de Bibliotecas"
   ]
  },
  {
   "cell_type": "code",
   "execution_count": null,
   "id": "7225f6b6",
   "metadata": {},
   "outputs": [],
   "source": [
    "# Manipulação de dados\n",
    "import pandas as pd\n",
    "import numpy as np\n",
    "\n",
    "# Visualização\n",
    "import matplotlib.pyplot as plt\n",
    "import seaborn as sns\n",
    "\n",
    "# Modelagem\n",
    "from sklearn.linear_model import LinearRegression, Ridge, Lasso\n",
    "from sklearn.tree import DecisionTreeRegressor\n",
    "from sklearn.ensemble import RandomForestRegressor, GradientBoostingRegressor\n",
    "\n",
    "# Pré-processamento\n",
    "from sklearn.preprocessing import StandardScaler, OneHotEncoder, OrdinalEncoder\n",
    "from sklearn.compose import ColumnTransformer\n",
    "from sklearn.pipeline import Pipeline, make_pipeline\n",
    "\n",
    "# Validação e avaliação\n",
    "from sklearn.model_selection import train_test_split, KFold, GridSearchCV, cross_validate\n",
    "from sklearn.metrics import mean_squared_error, r2_score\n",
    "\n",
    "# Estatística\n",
    "import statsmodels.api as sm\n",
    "\n",
    "# KaggleHub (carregamento de dataset)\n",
    "import kagglehub\n",
    "from kagglehub import KaggleDatasetAdapter\n",
    "\n",
    "# Salvamento e carregamento de modelos treinados\n",
    "import joblib"
   ]
  },
  {
   "cell_type": "code",
   "execution_count": null,
   "metadata": {
    "colab": {
     "base_uri": "https://localhost:8080/"
    },
    "id": "OuEMLbR7y56B",
    "outputId": "484e8a96-94d8-400f-b1ed-178e73b7e137"
   },
   "outputs": [],
   "source": [
    "# Carrega o dataset usando kagglehub\n",
    "\n",
    "df = kagglehub.load_dataset(\n",
    "    KaggleDatasetAdapter.PANDAS,\n",
    "    \"willianoliveiragibin/healthcare-insurance\",\n",
    "    \"insurance.csv\",\n",
    ")\n",
    "\n",
    "assert not df.empty, \"Dataset não foi carregado corretamente\""
   ]
  },
  {
   "cell_type": "markdown",
   "metadata": {},
   "source": [
    "# Exploração de Dados\n",
    "\n",
    "Nesta etapa, buscamos compreender a estrutura e características principais do conjunto de dados. A análise inclui:\n",
    "\n",
    "- Dimensões do dataset\n",
    "- Tipos de variáveis\n",
    "- Valores ausentes\n",
    "- Estatísticas descritivas\n",
    "- Visualizações iniciais para facilitar a interpretação inicial\n"
   ]
  },
  {
   "cell_type": "code",
   "execution_count": null,
   "metadata": {
    "colab": {
     "base_uri": "https://localhost:8080/"
    },
    "id": "6uum42cYrWQK",
    "outputId": "b80e3120-f031-4764-ed21-dfbab100408f"
   },
   "outputs": [],
   "source": [
    "# Retorna a dimensionalidade do DataFrame.\n",
    "df.shape"
   ]
  },
  {
   "cell_type": "markdown",
   "metadata": {},
   "source": [
    "💡 O dataset possui 1338 linhas (registros) e 7 colunas (variáveis).\n"
   ]
  },
  {
   "cell_type": "code",
   "execution_count": null,
   "metadata": {
    "colab": {
     "base_uri": "https://localhost:8080/"
    },
    "id": "RlfB0iwy3BPH",
    "outputId": "fe7f980b-9a24-46fa-ba01-80ee1299a3f1"
   },
   "outputs": [],
   "source": [
    "# Exibe informações gerais do dataset: tipos de dados, contagem de valores não nulos e uso de memória.\n",
    "df.info()"
   ]
  },
  {
   "cell_type": "markdown",
   "metadata": {},
   "source": [
    "💡 O dataset não possui valores nulos, o que indica que ele já foi previamente limpo.\n",
    "\n",
    "As variáveis categóricas são:\n",
    "\n",
    "- `sex`\n",
    "- `smoker`\n",
    "- `region`\n",
    "\n",
    "As variáveis numéricas são:\n",
    "\n",
    "- `age`\n",
    "- `bmi`\n",
    "- `children`\n",
    "- `charges`\n"
   ]
  },
  {
   "cell_type": "code",
   "execution_count": null,
   "metadata": {
    "colab": {
     "base_uri": "https://localhost:8080/",
     "height": 206
    },
    "id": "8XFY6J0iq4ab",
    "outputId": "1e8a1ea3-4a19-480c-c098-6ba73a1b8ad4"
   },
   "outputs": [],
   "source": [
    "# Visualiza as 5 primeiras linhas do dataset para inspecionar amostras reais dos dados.\n",
    "df.head()"
   ]
  },
  {
   "cell_type": "code",
   "execution_count": null,
   "metadata": {
    "colab": {
     "base_uri": "https://localhost:8080/",
     "height": 300
    },
    "id": "E1yGxNrMyjx-",
    "outputId": "3a8965bb-4bbc-4494-c2a0-a6eeabe363ab"
   },
   "outputs": [],
   "source": [
    "# Gera estatísticas descritivas para variáveis numéricas do dataset.\n",
    "df.describe()"
   ]
  },
  {
   "cell_type": "markdown",
   "metadata": {},
   "source": [
    "💡 A análise descritiva revela informações importantes sobre as variáveis numéricas.\n",
    "\n",
    "Essas métricas permitem avaliar a simetria, a presença de outliers e a dispersão das variáveis — informações úteis para decisões de pré-processamento e modelagem.\n",
    "\n",
    "| **Métrica**   | **Descrição**                                                  | **Exemplo**                                                                            |\n",
    "| ------------- | -------------------------------------------------------------- | -------------------------------------------------------------------------------------- |\n",
    "| `count`       | Número de valores não nulos na coluna.                         | Todas as colunas têm **1338 entradas**, indicando que o dataset está completo.         |\n",
    "| `mean`        | Média aritmética dos valores.                                  | A média de IMC (`bmi`) é aproximadamente **30**, indicando uma tendência ao sobrepeso. |\n",
    "| `std`         | Desvio padrão — indica o grau de dispersão em relação à média. | O desvio padrão de `charges` é elevado, mostrando grande variação nos custos médicos.  |\n",
    "| `min` / `max` | Menor e maior valor observado na variável.                     | A idade (`age`) varia de **18 a 64 anos**, cobrindo uma população adulta.              |\n",
    "| `25%`         | Primeiro quartil — 25% dos dados estão abaixo desse valor.     | 25% dos pacientes têm menos de **27 anos** (`age`), indicando uma população jovem.     |\n",
    "| `50%`         | Mediana — ponto central da distribuição.                       | A mediana de `charges` é cerca de **9.400**, menor que a média, sugerindo assimetria.  |\n",
    "| `75%`         | Terceiro quartil — 75% dos dados estão abaixo desse valor.     | 75% têm `charges` abaixo de **17.000**, indicando que os valores mais altos são raros. |\n"
   ]
  },
  {
   "cell_type": "code",
   "execution_count": null,
   "metadata": {},
   "outputs": [],
   "source": [
    "# Exibe estatísticas descritivas para variáveis categóricas.\n",
    "df.describe(include=['object'])"
   ]
  },
  {
   "cell_type": "markdown",
   "metadata": {},
   "source": [
    "💡 As estatísticas descritivas das variáveis categóricas revelam que:\n",
    "\n",
    "- As colunas `sex` e `smoker` são binárias, com apenas duas categorias distintas.\n",
    "- A coluna `region` possui 4 categorias, o que a caracteriza como categórica nominal.\n",
    "- O campo `top` indica a categoria mais comum em cada variável, e `freq` mostra sua frequência — útil para entender o balanceamento das classes.\n"
   ]
  },
  {
   "cell_type": "markdown",
   "metadata": {},
   "source": [
    "### Análises gráficas das variáveis"
   ]
  },
  {
   "cell_type": "code",
   "execution_count": null,
   "metadata": {
    "colab": {
     "base_uri": "https://localhost:8080/",
     "height": 407
    },
    "id": "-l0km5Pls-zx",
    "outputId": "9356ee8e-25a3-4c8c-87d3-4f681f72be87"
   },
   "outputs": [],
   "source": [
    "# Cria gráficos de barras para visualizar a frequência das categorias em 'sex', 'smoker' e 'region'.\n",
    "\n",
    "fig, axs = plt.subplots(1, 3, figsize=(15, 4))\n",
    "\n",
    "sns.countplot(data=df, x=\"sex\", ax=axs[0])\n",
    "axs[0].set_title(\"Distribuição de sex\")\n",
    "\n",
    "sns.countplot(data=df, x=\"smoker\", ax=axs[1])\n",
    "axs[1].set_title(\"Distribuição de smoker\")\n",
    "\n",
    "sns.countplot(data=df, x=\"region\", ax=axs[2])\n",
    "axs[2].set_title(\"Distribuição de region\")\n",
    "\n",
    "plt.tight_layout()\n",
    "plt.show()"
   ]
  },
  {
   "cell_type": "markdown",
   "metadata": {},
   "source": [
    "💡 A distribuição das variáveis categóricas mostra que:\n",
    "\n",
    "- **`sex`**: A variável está aproximadamente balanceada entre masculino e feminino, o que evita viés de gênero no treinamento do modelo.\n",
    "- **`smoker`**: A maior parte dos indivíduos são não-fumantes, indicando desequilíbrio de classes.\n",
    "- **`region`**: As quatro regiões (`northeast`, `southeast`, `southwest`, `northwest`) têm distribuições similares, o que é positivo para generalização do modelo.\n",
    "\n",
    "Essas análises ajudam a antecipar a necessidade de tratamento para desbalanceamentos (como em `smoker`) e a decidir o tipo de codificação adequada.\n"
   ]
  },
  {
   "cell_type": "code",
   "execution_count": null,
   "id": "4ef773fb",
   "metadata": {},
   "outputs": [],
   "source": [
    "# Gera histogramas para visualizar a distribuição das variáveis numéricas: age, bmi, children e charges.\n",
    "\n",
    "def plot_histogram(df, column, ax=None, kde=True):\n",
    "    sns.histplot(df[column], kde=kde, ax=ax)\n",
    "    ax.set_title(f\"Distribuição de {column}\")\n",
    "\n",
    "cols = [\"age\", \"bmi\", \"children\", \"charges\"]\n",
    "fig, axs = plt.subplots(2, 2, figsize=(15, 8))\n",
    "for col, ax in zip(cols, axs.ravel()):\n",
    "    kde_flag = False if col == \"children\" else True\n",
    "    plot_histogram(df, col, ax, kde=kde_flag)\n",
    "plt.tight_layout()\n",
    "plt.show()"
   ]
  },
  {
   "cell_type": "markdown",
   "metadata": {},
   "source": [
    "💡 A análise da distribuição das variáveis numéricas mostra que:\n",
    "\n",
    "- **`age`**: A distribuição é ligeiramente assimétrica, o que pode influenciar o modelo a focar em custos de faixas etárias mais jovens.\n",
    "- **`bmi`**: A distribuição é quase normal, mas com uma cauda à direita, indicando alguns casos de obesidade.\n",
    "- **`children`**: A maioria dos indivíduos tem 0 ou poucos filhos, com poucos casos com 4 ou mais filhos.\n",
    "- **`charges`**: A distribuição é muito assimétrica e possui uma cauda longa, indicando a presença de outliers — alguns poucos pacientes têm custos médicos extremamente altos.\n"
   ]
  },
  {
   "cell_type": "code",
   "execution_count": null,
   "id": "43d391a1",
   "metadata": {},
   "outputs": [],
   "source": [
    "# Gera boxplots para inspecionar a distribuição e detectar outliers nas variáveis numéricas.\n",
    "\n",
    "def plot_boxplot(df, column, ax=None):\n",
    "    sns.boxplot(x=df[column], ax=ax)\n",
    "    ax.set_title(f\"Boxplot de {column}\")\n",
    "\n",
    "fig, axs = plt.subplots(2, 2, figsize=(15, 8))\n",
    "for col, ax in zip(cols, axs.ravel()):\n",
    "    plot_boxplot(df, col, ax)\n",
    "plt.tight_layout()\n",
    "plt.show()\n"
   ]
  },
  {
   "cell_type": "markdown",
   "metadata": {},
   "source": [
    "💡 Os boxplots das variáveis numéricas revelam:\n",
    "\n",
    "- **`age`**: Distribuição relativamente simétrica, sem outliers aparentes. A mediana está próxima ao centro da faixa etária.\n",
    "- **`bmi`**: Leve assimetria à direita e presença de alguns outliers com IMC elevado, o que pode indicar indivíduos obesos.\n",
    "- **`children`**: Como variável discreta, o boxplot mostra saltos em valores fixos. Não há outliers, mas a distribuição é claramente enviesada para baixo.\n",
    "- **`charges`**: Forte assimetria à direita com diversos outliers, o que confirma a cauda longa observada no histograma. Esses valores extremos podem afetar o desempenho de modelos mais sensíveis à variância.\n"
   ]
  },
  {
   "cell_type": "markdown",
   "metadata": {},
   "source": [
    "### Análises gráficas das correlações"
   ]
  },
  {
   "cell_type": "code",
   "execution_count": null,
   "metadata": {},
   "outputs": [],
   "source": [
    "# Cria gráficos de dispersão e stripplots para examinar relações com 'charges'\n",
    "fig, axs = plt.subplots(3, 2, figsize=(15, 12))\n",
    "\n",
    "# Dispersão: idade vs. custo\n",
    "sns.scatterplot(data=df, x=\"age\", y=\"charges\", ax=axs[0, 0])\n",
    "axs[0, 0].set_title(\"charges vs. age\")\n",
    "\n",
    "# Dispersão: IMC vs. custo\n",
    "sns.scatterplot(data=df, x=\"bmi\", y=\"charges\", ax=axs[0, 1])\n",
    "axs[0, 1].set_title(\"charges vs. bmi\")\n",
    "\n",
    "# Dispersão: número de filhos vs. custo\n",
    "sns.scatterplot(data=df, x=\"children\", y=\"charges\", ax=axs[1, 0])\n",
    "axs[1, 0].set_title(\"charges vs. children\")\n",
    "\n",
    "# Stripplot: fumante vs. custo\n",
    "sns.stripplot(data=df, x=\"smoker\", y=\"charges\", ax=axs[1, 1], jitter=True, alpha=0.5)\n",
    "axs[1, 1].set_title(\"charges vs. smoker\")\n",
    "\n",
    "# Stripplot: sexo vs. custo\n",
    "sns.stripplot(data=df, x=\"sex\", y=\"charges\", ax=axs[2, 0], jitter=True, alpha=0.5)\n",
    "axs[2, 0].set_title(\"charges vs. sex\")\n",
    "\n",
    "# Stripplot: região vs. custo\n",
    "sns.stripplot(data=df, x=\"region\", y=\"charges\", ax=axs[2, 1], jitter=True, alpha=0.5)\n",
    "axs[2, 1].set_title(\"charges vs. region\")\n",
    "\n",
    "plt.tight_layout()\n",
    "plt.show()\n"
   ]
  },
  {
   "cell_type": "markdown",
   "metadata": {},
   "source": [
    "💡 Os gráficos de dispersão e stripplots mostram padrões importantes entre variáveis explicativas e os custos médicos (`charges`):\n",
    "\n",
    "- `age`: tendência de aumento nos custos com a idade, reforçando sua relevância como variável contínua.\n",
    "- `bmi`: disperso, mas com acúmulo de custos elevados para valores acima de 30 (obesidade).\n",
    "- `children`: pouca relação visual direta.\n",
    "- `smoker`: impacto evidente — fumantes concentram-se em uma faixa muito mais alta de `charges`.\n",
    "- `sex`: pouca relação visual direta.\n",
    "- `region`: variações discretas nos custos médios entre regiões.\n",
    "\n",
    "Essas visualizações reforçam a necessidade de considerar **efeitos não lineares e interações entre variáveis**, especialmente ao escolher modelos como árvores de decisão e ensemble methods.\n"
   ]
  },
  {
   "cell_type": "code",
   "execution_count": null,
   "metadata": {},
   "outputs": [],
   "source": [
    "# Gera gráficos de barras para o custo médico médio por grupo de variáveis\n",
    "\n",
    "df_viz = df.copy()\n",
    "df_viz[\"age_group\"] = pd.cut(df_viz[\"age\"], bins=range(15, 70, 5))\n",
    "df_viz[\"bmi_group\"] = pd.cut(df_viz[\"bmi\"], bins=range(15, 55, 5))\n",
    "\n",
    "# Define colunas categóricas e rótulos para exibição\n",
    "group_configs = {\n",
    "    \"age_group\": (\"Faixa etária\", \"Custo médio por faixa etária\"),\n",
    "    \"bmi_group\": (\"Faixa de IMC\", \"Custo médio por faixa de IMC\"),\n",
    "    \"children\": (\"Número de filhos\", \"Custo médio por número de filhos\"),\n",
    "    \"smoker\": (\"Fumante\", \"Custo médio por tabagismo\"),\n",
    "    \"sex\": (\"Sexo\", \"Custo médio por sexo\"),\n",
    "    \"region\": (\"Região\", \"Custo médio por região\")\n",
    "}\n",
    "\n",
    "# Define número de subplots dinamicamente com base na quantidade de variáveis\n",
    "fig, axs = plt.subplots(3, 2, figsize=(15, 12))\n",
    "\n",
    "for ax, (col, (xlabel, title)) in zip(axs.ravel(), group_configs.items()):\n",
    "    grouped = df_viz.groupby(col)[\"charges\"].mean().reset_index()\n",
    "    sns.barplot(data=grouped, x=col, y=\"charges\", ax=ax)\n",
    "    ax.set_title(title)\n",
    "    ax.set_xlabel(xlabel)\n",
    "    ax.set_ylabel(\"Custo médio (USD)\")\n",
    "\n",
    "plt.tight_layout()\n",
    "plt.show()\n"
   ]
  },
  {
   "cell_type": "markdown",
   "metadata": {},
   "source": [
    "💡 A análise dos custos médicos médios por grupos revela padrões claros e úteis para interpretação:\n",
    "\n",
    "- `age`: Há um aumento progressivo no custo médio conforme a faixa etária avança, refletindo o aumento de risco com o envelhecimento.\n",
    "- `bmi`: A média de `charges` tende a subir a partir de IMCs acima de 30, indicando o impacto da obesidade.\n",
    "- `children`: Embora o padrão não seja tão forte, há uma tendência leve de aumento com mais filhos.\n",
    "- `smoker`: Diferença gritante — fumantes têm, em média, custos médicos muito superiores aos não fumantes.\n",
    "- `sex`: Pequena diferença entre os grupos, mas consistente: indivíduos do sexo masculino tendem a apresentar médias ligeiramente superiores.\n",
    "- `region`: As diferenças entre regiões são sutis, mas notáveis em alguns agrupamentos — o que pode indicar influências geográficas nos custos.\n",
    "\n",
    "Essa visualização por média facilita a comunicação dos efeitos médios das variáveis de forma mais acessível."
   ]
  },
  {
   "cell_type": "markdown",
   "metadata": {
    "id": "xBsDgztf2HGq"
   },
   "source": [
    "# Pré-processamento de Dados\n",
    "\n",
    "Nesta etapa, realizaremos transformações para preparar os dados para os modelos de regressão.\n"
   ]
  },
  {
   "cell_type": "code",
   "execution_count": null,
   "metadata": {
    "id": "6z0xZGgNBYTF"
   },
   "outputs": [],
   "source": [
    "# Fazemos uma cópia do DataFrame original para aplicar codificações sem alterar os dados brutos\n",
    "df_encoded = df.copy()"
   ]
  },
  {
   "cell_type": "code",
   "execution_count": null,
   "metadata": {
    "id": "TUt4rE-r3b4N"
   },
   "outputs": [],
   "source": [
    "# Codifica as variáveis binárias 'sex' e 'smoker' manualmente.\n",
    "df_encoded[\"sex\"] = df_encoded[\"sex\"].map({\"female\": 0, \"male\": 1})\n",
    "df_encoded[\"smoker\"] = df_encoded[\"smoker\"].map({\"no\": 0, \"yes\": 1})"
   ]
  },
  {
   "cell_type": "code",
   "execution_count": null,
   "metadata": {},
   "outputs": [],
   "source": [
    "# Aplica codificação one-hot na variável 'region', criando colunas binárias para representar cada região.\n",
    "df_encoded = pd.get_dummies(df_encoded, columns=[\"region\"], drop_first=False)"
   ]
  },
  {
   "cell_type": "code",
   "execution_count": null,
   "metadata": {},
   "outputs": [],
   "source": [
    "# Converte colunas booleanas para inteiros (0 ou 1), garantindo compatibilidade com o modelos do statsmodels, como o OLS.\n",
    "df_encoded = df_encoded.astype({col: int for col in df_encoded.select_dtypes('bool').columns})"
   ]
  },
  {
   "cell_type": "code",
   "execution_count": null,
   "metadata": {},
   "outputs": [],
   "source": [
    "df_encoded.head()"
   ]
  },
  {
   "cell_type": "code",
   "execution_count": null,
   "metadata": {
    "colab": {
     "base_uri": "https://localhost:8080/",
     "height": 545
    },
    "id": "qglJ63ze-0R-",
    "outputId": "fbee5534-2d75-4530-f47c-27bb9e98a321"
   },
   "outputs": [],
   "source": [
    "# Gera um mapa de calor com a correlação entre variáveis numéricas para identificar relações lineares com o custo médico.\n",
    "plt.figure(figsize=(10, 6))\n",
    "sns.heatmap(df_encoded.corr(numeric_only=True), annot=True, cmap='coolwarm')\n",
    "plt.title(\"Mapa de Correlação\")\n",
    "plt.show()"
   ]
  },
  {
   "cell_type": "markdown",
   "metadata": {},
   "source": [
    "💡 A matriz de correlação revela:\n",
    "\n",
    "- `smoker` tem a maior correlação com  (0.79), indicando forte impacto nos custos médicos — possivelmente devido a maior risco associado ao tabagismo.\n",
    "- `age` possui correlação moderada com  (0.30), o que faz sentido, já que idosos tendem a ter mais despesas médicas.\n",
    "- `bmi` também mostra uma correlação positiva (0.20), o que também faz sentido, especialmente considerando casos de obesidade.\n",
    "- `sex`, `children` e as variáveis de `region` têm correlações fracas (próximas de 0), sugerindo pouca influência direta em `charges`.\n",
    "\n",
    "Essas informações ajudam a entender quais variáveis são mais relevantes para o modelo e quais podem ter influência limitada.\n",
    "\n",
    "Mesmo assim, manter as regiões codificadas pode ajudar modelos mais complexos a capturar interações não-lineares.\n"
   ]
  },
  {
   "cell_type": "code",
   "execution_count": null,
   "metadata": {},
   "outputs": [],
   "source": [
    "# Cria duas versões do dataset: uma para modelos lineares e outra para modelos baseados em árvore.\n",
    "df_tree = df_encoded.copy()\n",
    "df_linear = df_encoded.drop(columns=[\"region_southwest\"])"
   ]
  },
  {
   "cell_type": "markdown",
   "metadata": {},
   "source": [
    "ℹ️ Ao aplicar one-hot encoding na variável categórica `region`, são criadas múltiplas colunas binária.\n",
    "\n",
    "No entanto, manter todas essas colunas pode causar **multicolinearidade** em modelos lineares — uma condição em que variáveis altamente correlacionadas afetam negativamente os coeficientes da regressão.\n",
    "\n",
    "Para evitar isso, removemos uma das colunas (no caso, `region_southwest`)."
   ]
  },
  {
   "cell_type": "code",
   "execution_count": null,
   "metadata": {},
   "outputs": [],
   "source": [
    "# Normaliza variáveis numéricas no dataset linear\n",
    "scaler = StandardScaler()\n",
    "numeric_features = [\"age\", \"bmi\", \"children\"]\n",
    "df_linear[numeric_features] = scaler.fit_transform(df_linear[numeric_features])"
   ]
  },
  {
   "cell_type": "markdown",
   "metadata": {},
   "source": [
    "ℹ️ Modelos como **Regressão Linear**, **Ridge** e **Lasso** são sensíveis à escala das variáveis.\n",
    "\n",
    "Isso significa que atributos com valores maiores podem influenciar desproporcionalmente os coeficientes.\n",
    "\n",
    "Para evitar esse problema, utilizamos o **StandardScaler**, que transforma as variáveis numéricas (`age`, `bmi`, `children`) para uma distribuição com média 0 e desvio padrão 1.  \n",
    "\n",
    "Essa padronização garante que todos os atributos tenham a mesma importância inicial no processo de ajuste dos coeficientes.\n"
   ]
  },
  {
   "cell_type": "code",
   "execution_count": null,
   "metadata": {},
   "outputs": [],
   "source": [
    "df_linear.head()"
   ]
  },
  {
   "cell_type": "markdown",
   "metadata": {
    "id": "g0_XKFqw33pL"
   },
   "source": [
    "# Modelagem\n",
    "\n",
    "Nesta etapa, definimos um dicionário chamado `models` contendo os algoritmos de regressão que serão avaliados. Cada entrada inclui:\n",
    "\n",
    "- O modelo propriamente instanciado com seus parâmetros padrão (exceto o `random_state`, para garantir reprodutibilidade);\n",
    "- O conjunto de dados correspondente, preparado de forma adequada:\n",
    "  - Modelos lineares (`Linear Regression`, `Ridge`, `Lasso`) utilizam o `df_linear`, que passou por normalização e ajuste de multicolinearidade;\n",
    "  - Modelos baseados em árvore (`Decision Tree`, `Random Forest`, `Gradient Boosting`) utilizam o `df_tree`, sem necessidade de normalização.\n",
    "\n",
    "Essa separação permite comparar diferentes algoritmos de forma justa, utilizando os dados no formato mais apropriado para seu funcionamento."
   ]
  },
  {
   "cell_type": "code",
   "execution_count": null,
   "metadata": {},
   "outputs": [],
   "source": [
    "models = {\n",
    "    \"Linear Regression\": {\n",
    "        \"model\": LinearRegression(),\n",
    "        \"data\": df_linear\n",
    "    },\n",
    "    \"Ridge\": {\n",
    "        \"model\": Ridge(),\n",
    "        \"data\": df_linear\n",
    "    },\n",
    "    \"Lasso\": {\n",
    "        \"model\": Lasso(),\n",
    "        \"data\": df_linear\n",
    "    },\n",
    "    \"Decision Tree\": {\n",
    "        \"model\": DecisionTreeRegressor(random_state=42),\n",
    "        \"data\": df_tree\n",
    "    },\n",
    "    \"Random Forest\": {\n",
    "        \"model\": RandomForestRegressor(random_state=42, n_jobs=-1),\n",
    "        \"data\": df_tree\n",
    "    },\n",
    "    \"Gradient Boosting\": {\n",
    "        \"model\": GradientBoostingRegressor(random_state=42),\n",
    "        \"data\": df_tree\n",
    "    },\n",
    "}"
   ]
  },
  {
   "cell_type": "markdown",
   "metadata": {},
   "source": [
    "# Treinamento e Avaliação do Modelo\n",
    "\n",
    "Nesta etapa, treinamos os modelos para prever os custos médicos com base nos dados de treino.\n",
    "Depois, avaliamos seu desempenho em dados de teste — que os modelos ainda não conheciam.\n",
    "\n",
    "Utilizamos métricas como **R²**, **MSE** e **RMSE** para medir a qualidade das previsões."
   ]
  },
  {
   "cell_type": "markdown",
   "metadata": {},
   "source": [
    "## Avaliação com Holdout (Treino/Teste)\n",
    "\n",
    "Nesta etapa, usamos a estratégia **holdout** — uma divisão simples dos dados em treino e teste.\n",
    "\n",
    "É uma abordagem eficiente para avaliação inicial, mas pode gerar resultados enviesados dependendo da divisão feita."
   ]
  },
  {
   "cell_type": "code",
   "execution_count": null,
   "metadata": {
    "id": "wJmltoQw34Jl"
   },
   "outputs": [],
   "source": [
    "results_holdout = {} # Armazena as métricas por modelo\n",
    "y_preds_holdout = {} # Armazena os valores previstos por modelo\n",
    "\n",
    "for model_name, config in models.items():\n",
    "    model = config[\"model\"]\n",
    "    df_base = config[\"data\"]\n",
    "\n",
    "    # Divide os dados em X (features) e y (target)\n",
    "    X = df_base.drop(\"charges\", axis=1)\n",
    "    y = df_base[\"charges\"]\n",
    "\n",
    "    # Divide em conjunto de treino e teste (80/20), com random_state para reprodutibilidade\n",
    "    X_train, X_test, y_train, y_test = train_test_split(\n",
    "        X, y, test_size=0.2, random_state=42\n",
    "    )\n",
    "\n",
    "    # Treina o modelo\n",
    "    model.fit(X_train, y_train)\n",
    "\n",
    "    # Gera predições para o conjunto de teste\n",
    "    y_pred = model.predict(X_test)\n",
    "\n",
    "    # Calcula métricas de avaliação\n",
    "    r2 = r2_score(y_test, y_pred)\n",
    "    mse = mean_squared_error(y_test, y_pred)\n",
    "    rmse = np.sqrt(mse)  # Calcula RMSE manualmente (compatível com versões mais antigas do sklearn)\n",
    "\n",
    "    # Salva as métricas no dicionário de resultados\n",
    "    results_holdout[model_name] = {\n",
    "        \"R²\": r2,\n",
    "        \"RMSE\": rmse,\n",
    "    }\n",
    "\n",
    "    # Armazena predições e valores reais para análises gráficas posteriores\n",
    "    y_preds_holdout[model_name] = y_pred\n",
    "\n",
    "df_results_holdout = (pd.DataFrame(results_holdout).T.sort_values(by=\"R²\", ascending=False))\n",
    "display(df_results_holdout)"
   ]
  },
  {
   "cell_type": "markdown",
   "metadata": {},
   "source": [
    "| **Métrica** | **Nome**                      | **Descrição**                                                   | **Interpretação**                                 |\n",
    "| ----------- | ----------------------------- | --------------------------------------------------------------- | ------------------------------------------------- |\n",
    "| `R²`        | Coeficiente de Determinação   | Mede o quanto da variação em `charges` é explicada pelo modelo. | Varia de 0 a 1. Quanto maior, melhor.             |\n",
    "| `MSE`       | Erro Quadrático Médio         | Média dos erros elevados ao quadrado.                           | Penaliza fortemente grandes erros.                |\n",
    "| `RMSE`      | Raiz do Erro Quadrático Médio | Raiz quadrada do MSE.                                           | Tem a mesma unidade da variável alvo (`charges`). |"
   ]
  },
  {
   "cell_type": "code",
   "execution_count": null,
   "metadata": {},
   "outputs": [],
   "source": [
    "# Gera gráfico de dispersão: valores reais vs. previstos\n",
    "def plot_prediction_vs_actual(model_name, ax, y_true, y_pred):\n",
    "    ax.scatter(y_true, y_pred, alpha=0.5)\n",
    "    \n",
    "    min_val = min(y_true.min(), y_pred.min())\n",
    "    max_val = max(y_true.max(), y_pred.max())\n",
    "    ax.plot([min_val, max_val], [min_val, max_val], 'r--', label=\"Referência (y = x)\")\n",
    "    \n",
    "    ax.set_xlabel(\"Valores Reais\")\n",
    "    ax.set_ylabel(\"Valores Previstos\")\n",
    "    ax.set_title(f\"Real vs. Previsão ({model_name})\")\n",
    "    ax.grid(True)\n",
    "    ax.legend()\n",
    "\n",
    "fig, axs = plt.subplots(1, 1, figsize=(15, 4))\n",
    "\n",
    "plot_prediction_vs_actual(\"Linear Regression\", axs, y_test, y_preds_holdout[\"Linear Regression\"])\n",
    "\n",
    "plt.tight_layout()\n",
    "plt.show()"
   ]
  },
  {
   "cell_type": "markdown",
   "metadata": {},
   "source": [
    "## Avaliação com Validação Cruzada (K-Fold)\n",
    "\n",
    "Nesta etapa, avaliamos os modelos utilizando validação cruzada do tipo **K-Fold**, que divide os dados em 5 partes e roda múltiplas rodadas de treino e teste.\n",
    "\n",
    "Essa abordagem gera métricas mais estáveis e menos dependentes de uma única divisão dos dados."
   ]
  },
  {
   "cell_type": "code",
   "execution_count": null,
   "metadata": {},
   "outputs": [],
   "source": [
    "from sklearn.model_selection import cross_validate\n",
    "\n",
    "# Define o esquema de validação cruzada K-Fold\n",
    "kfold = KFold(n_splits=5, shuffle=True, random_state=42)\n",
    "\n",
    "# Dicionário para armazenar os resultados\n",
    "results_table_kfold = {}\n",
    "\n",
    "# Loop por todos os modelos\n",
    "for model_name, config in models.items():\n",
    "    model = config[\"model\"]\n",
    "    df_base = config[\"data\"]\n",
    "\n",
    "    X = df_base.drop(\"charges\", axis=1)\n",
    "    y = df_base[\"charges\"]\n",
    "\n",
    "    # Realiza validação cruzada com múltiplas métricas\n",
    "    cv_results = cross_validate(\n",
    "        model,\n",
    "        X,\n",
    "        y,\n",
    "        cv=kfold,\n",
    "        scoring={\"r2\": \"r2\", \"mse\": \"neg_mean_squared_error\"},\n",
    "        return_train_score=False\n",
    "    )\n",
    "\n",
    "    # Calcula as métricas agregadas\n",
    "    r2_scores = cv_results[\"test_r2\"]\n",
    "    mse_scores = -cv_results[\"test_mse\"]\n",
    "    rmse_scores = np.sqrt(mse_scores)\n",
    "\n",
    "    # Armazena as métricas no dicionário\n",
    "    results_table_kfold[model_name] = {\n",
    "        \"Mean R²\": np.mean(r2_scores),\n",
    "        \"R² Std\": np.std(r2_scores),\n",
    "        \"Mean MSE\": np.mean(mse_scores),\n",
    "        \"MSE Std\": np.std(mse_scores),\n",
    "        \"Mean RMSE\": np.mean(rmse_scores),\n",
    "        \"RMSE Std\": np.std(rmse_scores),\n",
    "    }\n",
    "\n",
    "# Converte os resultados em DataFrame ordenado por desempenho\n",
    "df_results_kfold = (\n",
    "    pd.DataFrame(results_table_kfold)\n",
    "    .T\n",
    "    .sort_values(by=\"Mean R²\", ascending=False)\n",
    "    .reset_index()\n",
    ")\n",
    "df_results_kfold.rename(columns={\"index\": \"Model\"}, inplace=True)\n",
    "display(df_results_kfold)\n"
   ]
  },
  {
   "cell_type": "markdown",
   "metadata": {},
   "source": [
    "## Ajuste de Hiperparâmetros com GridSearchCV\n",
    "\n",
    "Nesta etapa, buscamos os melhores hiperparâmetros para cada modelo utilizando validação cruzada (K-Fold) e a métrica R² como critério de avaliação.\n",
    "\n",
    "Isso nos permite melhorar a performance dos modelos além do ajuste padrão, testando diferentes combinações de parâmetros."
   ]
  },
  {
   "cell_type": "code",
   "execution_count": null,
   "metadata": {},
   "outputs": [],
   "source": [
    "# Dicionário com modelos e respectivos grids de hiperparâmetros\n",
    "model_configs_grid = {\n",
    "    \"Linear Regression\": {\n",
    "        \"estimator\": models[\"Linear Regression\"][\"model\"],\n",
    "        \"param_grid\": {}\n",
    "    },\n",
    "    \"Ridge\": {\n",
    "        \"estimator\": models[\"Ridge\"][\"model\"],\n",
    "        \"param_grid\": {\n",
    "            \"alpha\": [0.001, 0.01, 0.1, 1, 10, 100, 1000]\n",
    "        }\n",
    "    },\n",
    "    \"Lasso\": {\n",
    "        \"estimator\": models[\"Lasso\"][\"model\"],\n",
    "        \"param_grid\": {\n",
    "            \"alpha\": [0.001, 0.01, 0.1, 1, 10, 100]\n",
    "        }\n",
    "    },\n",
    "    \"Decision Tree\": {\n",
    "        \"estimator\": models[\"Decision Tree\"][\"model\"],\n",
    "        \"param_grid\": {\n",
    "            \"max_depth\": [3, 5, 10],\n",
    "            \"min_samples_split\": [2, 5],\n",
    "            \"min_samples_leaf\": [1, 3]\n",
    "        }\n",
    "    },\n",
    "    \"Random Forest\": {\n",
    "        \"estimator\": models[\"Random Forest\"][\"model\"],\n",
    "        \"param_grid\": {\n",
    "            \"n_estimators\": [100, 200],\n",
    "            \"max_depth\": [5, 10, None],\n",
    "            \"min_samples_leaf\": [1, 3],\n",
    "            \"max_features\": [\"sqrt\", \"log2\"]\n",
    "        }\n",
    "    },\n",
    "    \"Gradient Boosting\": {\n",
    "        \"estimator\": models[\"Gradient Boosting\"][\"model\"],\n",
    "        \"param_grid\": {\n",
    "            \"n_estimators\": [100, 200],\n",
    "            \"learning_rate\": [0.03, 0.05, 0.1],\n",
    "            \"max_depth\": [2, 3, 4],\n",
    "            \"min_samples_leaf\": [1, 3],\n",
    "            \"subsample\": [0.8, 1.0]\n",
    "        }\n",
    "    }\n",
    "}\n",
    "\n",
    "# Avaliação dos modelos com GridSearchCV + validação cruzada\n",
    "results_grid = []\n",
    "\n",
    "for model_name, config in model_configs_grid.items():\n",
    "    print(f\"Ajustando hiperparâmetros: {model_name}\")\n",
    "\n",
    "    # Seleciona o DataFrame correto com base no modelo\n",
    "    df_base = models[model_name][\"data\"]\n",
    "    X = df_base.drop(\"charges\", axis=1)\n",
    "    y = df_base[\"charges\"]\n",
    "\n",
    "    # Executa a busca em grade com validação cruzada\n",
    "    grid_search = GridSearchCV(\n",
    "        estimator=config[\"estimator\"],\n",
    "        param_grid=config[\"param_grid\"],\n",
    "        scoring={\"r2\": \"r2\", \"mse\": \"neg_mean_squared_error\"},\n",
    "        refit=\"r2\",\n",
    "        cv=kfold,\n",
    "        n_jobs=-1,\n",
    "        return_train_score=True\n",
    "    )\n",
    "\n",
    "    grid_search.fit(X, y)\n",
    "\n",
    "    # Armazena os resultados principais\n",
    "    results_grid.append({\n",
    "        \"Model\": model_name,\n",
    "        \"Best R² (CV)\": grid_search.best_score_,\n",
    "        \"Best Parameters\": grid_search.best_params_,\n",
    "        \"Best Estimator\": grid_search.best_estimator_\n",
    "    })\n",
    "\n",
    "# Cria o DataFrame ordenado por desempenho\n",
    "df_results_grid = (\n",
    "    pd.DataFrame(results_grid)\n",
    "    .sort_values(by=\"Best R² (CV)\", ascending=False)\n",
    "    .reset_index(drop=True)\n",
    ")\n",
    "display(df_results_grid.drop(columns=[\"Best Estimator\"]))\n"
   ]
  },
  {
   "cell_type": "markdown",
   "metadata": {},
   "source": [
    "# Validação Estatística\n",
    "\n",
    "Nesta seção, realizamos uma análise estatística clássica do modelo de regressão linear utilizando a biblioteca `statsmodels`.\n",
    "\n",
    "Diferente das abordagens anteriores, que avaliaram o desempenho preditivo dos modelos com métricas como R² e RMSE, aqui o objetivo é entender:\n",
    "- Quais variáveis explicativas possuem efeito estatisticamente significativo sobre os custos médicos (`charges`);\n",
    "- A magnitude e direção desses efeitos (coeficientes);\n",
    "- A presença de multicolinearidade entre variáveis preditoras;\n",
    "- Se os pressupostos da regressão linear (normalidade dos resíduos, homocedasticidade, etc.) são atendidos."
   ]
  },
  {
   "cell_type": "code",
   "execution_count": null,
   "metadata": {
    "id": "gKTJ8Ri5H5h7"
   },
   "outputs": [],
   "source": [
    "# Adiciona constante para o modelo OLS (intercepto)\n",
    "X_train_sm = sm.add_constant(X_train, has_constant='add')\n",
    "X_test_sm = sm.add_constant(X_test, has_constant='add')\n",
    "\n",
    "# Converte y para float64 (recomendado para o OLS)\n",
    "y_train_sm = y_train.astype(float)\n",
    "y_test_sm = y_test.astype(float)\n",
    "\n",
    "# Treina modelo OLS com statsmodels\n",
    "ols_model = sm.OLS(y_train_sm, X_train_sm).fit()\n",
    "\n",
    "# Exibe um resumo estatístico completo do model OLS (coeficientes, p-values, R² ajustado, etc.)\n",
    "ols_model.summary()"
   ]
  },
  {
   "cell_type": "markdown",
   "metadata": {},
   "source": [
    "💡 Interpretação dos resultados do modelo OLS:\n",
    "\n",
    "* **R² = 0.742**\n",
    "  * Isso significa que o modelo consegue **explicar 74,2% da variação nos custos médicos** com base nas variáveis de entrada. Ou seja, boa parte dos fatores que fazem o custo variar estão sendo capturados pelas variáveis do modelo.\n",
    "\n",
    "* **R² ajustado = 0.740**\n",
    "  * É uma versão do R² que penaliza o uso excessivo de variáveis. Isso evita que o modelo pareça melhor só porque adicionamos mais colunas (mesmo que irrelevantes).\n",
    "  * O fato de estar muito próximo do R² comum indica que as variáveis adicionadas realmente ajudam a explicar o custo — não estão apenas “inflando” a performance do modelo artificialmente.\n",
    "\n",
    "* **F-statistic = 380.9 (p < 0.001)**\n",
    "  * Esse teste verifica se o modelo, como um todo, é melhor do que simplesmente chutar a média para todos os casos.\n",
    "  * O valor de **p < 0.001** indica que a chance de o modelo ser ruim por acaso é **menor que 0.1%** — o que é considerado altamente significativo em estatística.\n",
    "  * Portanto, temos evidência forte de que o conjunto de variáveis realmente ajuda a prever os custos."
   ]
  },
  {
   "cell_type": "markdown",
   "metadata": {},
   "source": [
    "\n",
    "| Variável          | Coef.   | P-valor | Significativo? | Interpretação                                                           |\n",
    "| ----------------- | ------- | ------- | -------------- | ----------------------------------------------------------------------- |\n",
    "| **age**           | +256.98 | <0.001  | ✅              | Cada ano a mais aumenta o custo médio em \\~R\\$257.                     |\n",
    "| **sex**           | -18.59  | 0.961   | ❌              | Sem efeito significativo entre homens/mulheres.                        |\n",
    "| **bmi**           | +337.09 | <0.001  | ✅              | Cada ponto extra no IMC aumenta os custos em \\~R\\$337.                 |\n",
    "| **children**      | +425.28 | 0.006   | ✅              | Cada filho a mais aumenta o custo médio em \\~R\\$425.                   |\n",
    "| **smoker**        | +23.657 | <0.001  | ✅              | Fumantes têm em média R\\$23.657 a mais em custos.                      |\n",
    "| region\\_northeast | +657.86 | 0.223   | ❌              | Não tem impacto significativo.                                         |\n",
    "| region\\_northwest | +287.19 | 0.598   | ❌              | Não tem impacto significativo.                                         |\n",
    "| region\\_southwest | -151.94 | 0.775   | ❌              | Não tem impacto significativo.                                         |"
   ]
  },
  {
   "cell_type": "markdown",
   "metadata": {},
   "source": [
    "\n",
    "<!-- ### 🧪 **Resumo das variáveis significativas**\n",
    "\n",
    "* ✅ **`smoker`** é de longe a variável com **maior impacto e significância**.\n",
    "* ✅ **`age`**, **`bmi`** e **`children`** também são estatisticamente significativas.\n",
    "* ❌ **`sex`** e **`region_*`** **não têm efeito significativo** — ou seja, não explicam variações relevantes nos custos médicos nesse modelo.\n",
    "\n",
    "---\n",
    "\n",
    "### ⚠️ Considerações finais\n",
    "\n",
    "* A estrutura do modelo é robusta, com boa explicação da variabilidade de `charges`.\n",
    "* **Não há multicolinearidade perfeita**, dado que o modelo foi ajustado com One-Hot Encoding (removendo uma dummy).\n",
    "* A ausência de significância de algumas variáveis pode indicar que elas:\n",
    "\n",
    "  * Não afetam diretamente os custos médicos\n",
    "  * Têm efeito indireto já absorvido por outras variáveis (como `smoker` ou `bmi`)\n",
    "* Você poderia optar por **remover variáveis com p > 0.05** para simplificar o modelo sem perda de desempenho.\n",
    "\n",
    "---\n",
    "\n",
    "Se quiser, posso gerar um gráfico com os coeficientes significativos ou auxiliar na simplificação do modelo OLS. Deseja isso? -->\n"
   ]
  },
  {
   "cell_type": "markdown",
   "metadata": {
    "id": "21Pn1av0xgHW"
   },
   "source": [
    "# Conclusão\n",
    "\n",
    "Este notebook teve como objetivo prever os custos médicos individuais (`charges`) com base em dados demográficos e comportamentais simulados, como idade, IMC, número de filhos, tabagismo e região. E encontramos os seguintes insights:\n",
    "\n",
    "- A variável **`smoker`** apresentou o maior impacto nos custos, com efeito estimado entre R$ 22.735 e R$ 24.566.\n",
    "- Os modelos lineares explicaram cerca de **74% da variação** em `charges`, enquanto o **Random Forest** atingiu **86%**, com menor erro médio (RMSE).\n",
    "- Variáveis como **`sex`** e **`region`** não apresentaram efeito significativo isoladamente.\n",
    "- A análise estatística com OLS forneceu maior interpretabilidade, enquanto o Random Forest teve melhor desempenho preditivo.\n",
    "- O modelo Random Forest foi o que melhor capturou os padrões dos dados, sendo a escolha mais adequada para aplicações com foco em precisão."
   ]
  },
  {
   "cell_type": "markdown",
   "metadata": {},
   "source": [
    "# Extra"
   ]
  },
  {
   "cell_type": "markdown",
   "metadata": {},
   "source": [
    "## Pipeline Final\n",
    "\n",
    "Após a validação cruzada e a busca em grade por hiperparâmetros ideais, identificamos que o modelo com melhor desempenho foi o **Gradient Boosting Regressor**.\n",
    "\n",
    "Para consolidar esse modelo em um fluxo reprodutível e escalável, construímos uma pipeline completa.\n",
    "Esta pipeline realiza o pré-processamento dos dados e aplica o modelo treinado de forma integrada.\n",
    "\n",
    "- **Codificação ordinal** para variáveis binárias (`sex`, `smoker`);\n",
    "- **One-hot encoding** para a variável categórica `region` (com exclusão da primeira categoria para evitar multicolinearidade);\n",
    "- **Passagem direta** das variáveis numéricas (`age`, `bmi`, `children`);\n",
    "- **Treinamento e predição** com o `GradientBoostingRegressor`, configurado com os melhores hiperparâmetros obtidos via GridSearchCV.\n",
    "\n",
    "Essa abordagem permite encapsular todo o processo de preparação e modelagem em um único objeto, facilitando tanto a manutenção quanto a aplicação do modelo em novos dados."
   ]
  },
  {
   "cell_type": "code",
   "execution_count": null,
   "metadata": {},
   "outputs": [],
   "source": [
    "# Definição das colunas\n",
    "numeric_features = ['age', 'bmi', 'children']\n",
    "binary_features = ['sex', 'smoker']\n",
    "categorical_features = ['region']\n",
    "\n",
    "# Pré-processador\n",
    "preprocessor = ColumnTransformer(transformers=[\n",
    "    ('encode_binary', OrdinalEncoder(dtype=int), binary_features),\n",
    "    ('encode_categorical', OneHotEncoder(drop='first'), categorical_features),\n",
    "    ('pass_numeric', 'passthrough', numeric_features)\n",
    "])\n",
    "\n",
    "# Pipeline final com o melhor modelo\n",
    "pipeline = Pipeline(steps=[\n",
    "    ('preprocessor', preprocessor),\n",
    "    ('regressor', GradientBoostingRegressor(\n",
    "        n_estimators=200,\n",
    "        learning_rate=0.05,\n",
    "        max_depth=3,\n",
    "        min_samples_leaf=1,\n",
    "        subsample=1.0,\n",
    "        random_state=42\n",
    "    ))\n",
    "])\n",
    "\n",
    "# Divisão dos dados\n",
    "X = df.drop(columns=['charges'])\n",
    "y = df['charges']\n",
    "X_train, X_test, y_train, y_test = train_test_split(X, y, test_size=0.2, random_state=42)\n",
    "\n",
    "pipeline.fit(X_train, y_train)\n"
   ]
  },
  {
   "cell_type": "code",
   "execution_count": null,
   "metadata": {},
   "outputs": [],
   "source": [
    "# Salva o pipeline treinado em um arquivo usando joblib\n",
    "joblib.dump(pipeline, 'gradient_boosting_pipeline.pkl')"
   ]
  },
  {
   "cell_type": "code",
   "execution_count": null,
   "metadata": {},
   "outputs": [],
   "source": [
    "# Carrega e usa o pipeline treinado do arquivo\n",
    "pipeline_loaded = joblib.load('gradient_boosting_pipeline.pkl')\n",
    "\n",
    "y_pred = pipeline_loaded.predict(X_test)\n",
    "r2 = r2_score(y_test, y_pred)\n",
    "rmse = np.sqrt(mean_squared_error(y_test, y_pred))\n",
    "\n",
    "print(f'R²: {r2:.4f}')\n",
    "print(f'RMSE: {rmse:.2f}')"
   ]
  }
 ],
 "metadata": {
  "colab": {
   "provenance": []
  },
  "kernelspec": {
   "display_name": "base",
   "language": "python",
   "name": "python3"
  },
  "language_info": {
   "codemirror_mode": {
    "name": "ipython",
    "version": 3
   },
   "file_extension": ".py",
   "mimetype": "text/x-python",
   "name": "python",
   "nbconvert_exporter": "python",
   "pygments_lexer": "ipython3",
   "version": "3.12.6"
  }
 },
 "nbformat": 4,
 "nbformat_minor": 0
}
