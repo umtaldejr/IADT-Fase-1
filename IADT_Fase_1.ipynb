{
  "cells": [
    {
      "cell_type": "markdown",
      "metadata": {},
      "source": [
        "# Objetivo\n",
        "Este notebook tem como objetivo criar um modelo de previsão de custos de saúde utilizando o algoritmo de regressão linear. \n",
        "\n",
        "### Modelos\n",
        "Será testado mais de um modelo, que será treinado com um conjunto de dados fictício que simula informações de pacientes e seus custos de saúde.\n",
        "\n",
        "### Pré-requisitos\n",
        "- Python 3.x\n",
        "- Bibliotecas: pandas, numpy, scikit-learn, matplotlib"
      ]
    },
    {
      "cell_type": "markdown",
      "metadata": {
        "id": "mFhYZw3y2ATa"
      },
      "source": [
        "### Instalação de dependencias"
      ]
    },
    {
      "cell_type": "code",
      "execution_count": null,
      "metadata": {
        "colab": {
          "base_uri": "https://localhost:8080/"
        },
        "id": "HqJQKDRgppBt",
        "outputId": "0075a0a4-dcb3-4dc2-c75c-7c5b675e0818"
      },
      "outputs": [],
      "source": [
        "# Install dependencies as needed:\n",
        "! pip install kagglehub[pandas-datasets]\n",
        "! pip install seaborn\n",
        "! pip install scikit-learn\n",
        "! pip install statsmodels"
      ]
    },
    {
      "cell_type": "code",
      "execution_count": 2,
      "metadata": {
        "id": "dKaRh_mg00Ze"
      },
      "outputs": [],
      "source": [
        "import pandas as pd"
      ]
    },
    {
      "cell_type": "code",
      "execution_count": null,
      "metadata": {
        "colab": {
          "base_uri": "https://localhost:8080/"
        },
        "id": "OuEMLbR7y56B",
        "outputId": "484e8a96-94d8-400f-b1ed-178e73b7e137"
      },
      "outputs": [],
      "source": [
        "import kagglehub\n",
        "from kagglehub import KaggleDatasetAdapter\n",
        "\n",
        "df = kagglehub.load_dataset(\n",
        "  KaggleDatasetAdapter.PANDAS,\n",
        "  \"willianoliveiragibin/healthcare-insurance\",\n",
        "  \"insurance.csv\",\n",
        ")"
      ]
    },
    {
      "cell_type": "markdown",
      "metadata": {},
      "source": [
        "### Análise Exploratória de Dados (AED)"
      ]
    },
    {
      "cell_type": "markdown",
      "metadata": {},
      "source": [
        "utilizamos a função shape para entender o dimencionamento dos dados, ou seja, quantas linhas e colunas temos no nosso dataset.\n"
      ]
    },
    {
      "cell_type": "code",
      "execution_count": null,
      "metadata": {
        "colab": {
          "base_uri": "https://localhost:8080/"
        },
        "id": "6uum42cYrWQK",
        "outputId": "b80e3120-f031-4764-ed21-dfbab100408f"
      },
      "outputs": [],
      "source": [
        "df.shape"
      ]
    },
    {
      "cell_type": "markdown",
      "metadata": {},
      "source": [
        "> Visualizamos 1338 linhas e 7 colunas"
      ]
    },
    {
      "cell_type": "markdown",
      "metadata": {},
      "source": [
        "Damos andamento a análise utilizando a função info() para entender o tipo de dado que temos em cada coluna, e também a quantidade de valores não nulos."
      ]
    },
    {
      "cell_type": "code",
      "execution_count": null,
      "metadata": {
        "colab": {
          "base_uri": "https://localhost:8080/"
        },
        "id": "RlfB0iwy3BPH",
        "outputId": "fe7f980b-9a24-46fa-ba01-80ee1299a3f1"
      },
      "outputs": [],
      "source": [
        "df.info()"
      ]
    },
    {
      "cell_type": "markdown",
      "metadata": {},
      "source": [
        "Concluímos que temos 3 colunas categóricas e 3 colunas categóricas.\n",
        "Nenhuma dessas colunas possui valores nulos, o que aparentemente demonstra ser uma base previamente tratada.\n",
        "As colunas categóricas são:\n",
        "- `sex`\n",
        "- `smoker`\n",
        "- `region`\n",
        "\n",
        "As colunas qualitativas são:\n",
        "- `age`\n",
        "- `bmi`\n",
        "- `children`\n",
        "\n",
        "Enquanto que a coluna `charges` é a variável alvo, ou seja, o que queremos prever."
      ]
    },
    {
      "cell_type": "markdown",
      "metadata": {},
      "source": [
        "A função head() nos mostra as 5 primeiras linhas do dataset, o que nos ajuda a entender melhor os dados."
      ]
    },
    {
      "cell_type": "code",
      "execution_count": null,
      "metadata": {
        "colab": {
          "base_uri": "https://localhost:8080/",
          "height": 206
        },
        "id": "8XFY6J0iq4ab",
        "outputId": "1e8a1ea3-4a19-480c-c098-6ba73a1b8ad4"
      },
      "outputs": [],
      "source": [
        "df.head()"
      ]
    },
    {
      "cell_type": "markdown",
      "metadata": {},
      "source": [
        "A função describe() nos dá uma visão geral dos dados numéricos, mostrando as seguintes informações:\n",
        "- count – Número total de valores não nulos \n",
        "- mean – Média dos valores\n",
        "- std – Desvio padrão (variação dos dados)\n",
        "- min – Valor mínimo\n",
        "- 25% (1º quartil) – Valor abaixo do qual estão 25% dos dados\n",
        "- 50% (mediana) – Valor central dos dados\n",
        "- 75% (3º quartil) – Valor abaixo do qual estão 75% dos dados\n",
        "- max – Valor máximo\n"
      ]
    },
    {
      "cell_type": "code",
      "execution_count": null,
      "metadata": {
        "colab": {
          "base_uri": "https://localhost:8080/",
          "height": 300
        },
        "id": "E1yGxNrMyjx-",
        "outputId": "3a8965bb-4bbc-4494-c2a0-a6eeabe363ab"
      },
      "outputs": [],
      "source": [
        "df.describe()"
      ]
    },
    {
      "cell_type": "markdown",
      "metadata": {},
      "source": [
        "Esse resultado já nos traz algumas informações interessantes, como por exemplo:\n",
        "- todas as colunas numéricas possuem valores não nulos\n",
        "\n",
        "Isso nos da segurança de que não precisamos tratar dados faltantes.\n",
        "\n",
        "### Já sobre os dados temos as seguintes conclusões:\n",
        "- A pessoa mais jovem tem 18 anos e a mais velha 64 anos, portanto o modelo não terá boa previsão de custos para crianças, adolescente e idosos. \n",
        "- O bmi (indice de massa corporal) parece representar a população americana por inteiro, com a média em 30.4.\n",
        "- A maior parte dos participantes tem 1 ou nenhum filho."
      ]
    },
    {
      "cell_type": "markdown",
      "metadata": {},
      "source": [
        "Podemos também usar a função describe() para as colunas categóricas"
      ]
    },
    {
      "cell_type": "code",
      "execution_count": null,
      "metadata": {},
      "outputs": [],
      "source": [
        "df.describe(include=['object'])\n"
      ]
    },
    {
      "cell_type": "markdown",
      "metadata": {},
      "source": [
        "Apesar de parecer trazer pouco valor, temos uma informação interessante, que é a quantidade de valores únicos em cada coluna.\n",
        "Isso nos ajuda a classificar a coluna sex e smoker como binárias, enquanto que a coluna region possui 4 valores únicos, o que nos mostra que ela é uma variável categórica nominal."
      ]
    },
    {
      "cell_type": "markdown",
      "metadata": {},
      "source": [
        "### Análise grafica das colunas categóricas\n",
        "Através da biblioteca matplotlib, conseguimos gerar gráficos para visualizar melhor os dados."
      ]
    },
    {
      "cell_type": "code",
      "execution_count": null,
      "metadata": {
        "colab": {
          "base_uri": "https://localhost:8080/",
          "height": 407
        },
        "id": "-l0km5Pls-zx",
        "outputId": "9356ee8e-25a3-4c8c-87d3-4f681f72be87"
      },
      "outputs": [],
      "source": [
        "import seaborn as sns\n",
        "import matplotlib.pyplot as plt\n",
        "\n",
        "fig, axs = plt.subplots(1, 3, figsize=(15, 4))\n",
        "\n",
        "sns.countplot(data=df, x=\"sex\", ax=axs[0])\n",
        "axs[0].set_title(\"Distribuição da variável `sex`\")\n",
        "\n",
        "sns.countplot(data=df, x=\"smoker\", ax=axs[1])\n",
        "axs[1].set_title(\"Distribuição da variável `smoker`\")\n",
        "\n",
        "sns.countplot(data=df, x=\"region\", ax=axs[2])\n",
        "axs[2].set_title(\"Distribuição da variável `region`\")\n",
        "\n",
        "plt.tight_layout()\n",
        "plt.show()"
      ]
    },
    {
      "cell_type": "markdown",
      "metadata": {},
      "source": [
        "Analisando os gráficos, podemos concluir que:\n",
        "#### SEX (Genero) \n",
        "A variável `sex` está com distribuição uniforme e simétrica, pois possui uma distribuição equilibrada entre homens e mulheres, com uma leve predominância de homens.\n",
        "O problema da variável `sex` estar com distribuição uniforme é que ela passa a não representar a realidade de determinadas regiões, a princípio vamos ignorar essa complexidade para viabilizar o treinamento do modelo, mas podemos explorar essa variável em relação a região em que queremos prever os custos para trazer mais acuracidade para o modelo.\n",
        "\n",
        "#### SMOKER (Fumante)\n",
        "Pode-se concluir algo similar para a variável `smoker`, a distribuição deste dado nesta amostra pode ser tendenciosa não necessariamente representando a realidade ou região em que queremos prever os custos.\n",
        "\n",
        "#### REGION\n",
        "A variável `reagion` possui uma distribuição bem equilibrada, indicando que o modelo pode ser treinado para prever custos de saúde em qualquer região dos EUA."
      ]
    },
    {
      "cell_type": "markdown",
      "metadata": {},
      "source": [
        "### Análise grafica das colunas qualitativas"
      ]
    },
    {
      "cell_type": "code",
      "execution_count": null,
      "metadata": {
        "colab": {
          "base_uri": "https://localhost:8080/",
          "height": 807
        },
        "id": "C9spUxpJpm6G",
        "outputId": "0acc43c9-04bf-41ed-debb-c64b633f3ff1"
      },
      "outputs": [],
      "source": [
        "import seaborn as sns\n",
        "import matplotlib.pyplot as plt\n",
        "\n",
        "fig, axs = plt.subplots(2, 2, figsize=(15, 8))\n",
        "\n",
        "sns.histplot(df[\"age\"], kde=True, ax=axs[0, 0])\n",
        "axs[0, 0].set_title(\"Distribuição da variável `age`\")\n",
        "\n",
        "sns.histplot(df[\"bmi\"], kde=True, ax=axs[0, 1])\n",
        "axs[0, 1].set_title(\"Distribuição da variável `bmi`\")\n",
        "\n",
        "sns.histplot(df[\"children\"], kde=False, ax=axs[1, 0])\n",
        "axs[1, 0].set_title(\"Distribuição da variável `children`\")\n",
        "\n",
        "sns.histplot(df[\"charges\"], kde=True, ax=axs[1, 1])\n",
        "axs[1, 1].set_title(\"Distribuição da variável `charges`\")\n",
        "\n",
        "plt.tight_layout()\n",
        "plt.show()"
      ]
    },
    {
      "cell_type": "markdown",
      "metadata": {},
      "source": [
        "#### AGE (Idade)\n",
        "Tem uma concentração maior bem na faixa dos 20 anos o que tender a forçar o modelo a prever custos de saúde mais baixos, o que pode não representar a realidade de regiões com uma população mais idosa."
      ]
    },
    {
      "cell_type": "code",
      "execution_count": null,
      "metadata": {
        "colab": {
          "base_uri": "https://localhost:8080/",
          "height": 807
        },
        "id": "LsJibRv5OCsb",
        "outputId": "bec9d36b-0f99-4f18-b587-2ff5b6c227ea"
      },
      "outputs": [],
      "source": [
        "import matplotlib.pyplot as plt\n",
        "import seaborn as sns\n",
        "\n",
        "fig, axs = plt.subplots(2, 2, figsize=(15, 8))\n",
        "\n",
        "sns.boxplot(x=df[\"age\"], ax=axs[0, 0])\n",
        "axs[0, 0].set_title(\"Boxplot da variável `age`\")\n",
        "\n",
        "sns.boxplot(x=df[\"bmi\"], ax=axs[0, 1])\n",
        "axs[0, 1].set_title(\"Boxplot da variável `bmi`\")\n",
        "\n",
        "sns.boxplot(x=df[\"children\"], ax=axs[1, 0])\n",
        "axs[1, 0].set_title(\"Boxplot da variável `children`\")\n",
        "\n",
        "sns.boxplot(x=df[\"charges\"], ax=axs[1, 1])\n",
        "axs[1, 1].set_title(\"Boxplot da variável `charges`\")\n",
        "\n",
        "plt.tight_layout()\n",
        "plt.show()"
      ]
    },
    {
      "cell_type": "markdown",
      "metadata": {
        "id": "xBsDgztf2HGq"
      },
      "source": [
        "# Pré-processamento de Dados"
      ]
    },
    {
      "cell_type": "markdown",
      "metadata": {},
      "source": [
        "Nesta etapa transformamos as variáveis categóricas em variáveis numéricas, para poder correlacionar melhor as variáveis."
      ]
    },
    {
      "cell_type": "code",
      "execution_count": 5,
      "metadata": {
        "id": "6z0xZGgNBYTF"
      },
      "outputs": [],
      "source": [
        "df_encoded = df.copy()"
      ]
    },
    {
      "cell_type": "code",
      "execution_count": 6,
      "metadata": {
        "id": "TUt4rE-r3b4N"
      },
      "outputs": [],
      "source": [
        "from sklearn.preprocessing import LabelEncoder\n",
        "\n",
        "df_encoded[\"sex\"] = df_encoded[\"sex\"].map({\"female\": 0, \"male\": 1})"
      ]
    },
    {
      "cell_type": "code",
      "execution_count": 7,
      "metadata": {
        "id": "XDPBlFAE3con"
      },
      "outputs": [],
      "source": [
        "from sklearn.preprocessing import LabelEncoder\n",
        "\n",
        "df_encoded[\"smoker\"] = df_encoded[\"smoker\"].map({\"no\": 0, \"yes\": 1})"
      ]
    },
    {
      "cell_type": "markdown",
      "metadata": {},
      "source": [
        "Após a transformação das variáveis categóricas, podemos aplicar um Mapa de correção entre todas as variáveis."
      ]
    },
    {
      "cell_type": "code",
      "execution_count": null,
      "metadata": {
        "colab": {
          "base_uri": "https://localhost:8080/",
          "height": 545
        },
        "id": "qglJ63ze-0R-",
        "outputId": "fbee5534-2d75-4530-f47c-27bb9e98a321"
      },
      "outputs": [],
      "source": [
        "import seaborn as sns\n",
        "import matplotlib.pyplot as plt\n",
        "\n",
        "plt.figure(figsize=(10, 6))\n",
        "sns.heatmap(df_encoded.corr(numeric_only=True), annot=True, cmap='coolwarm')\n",
        "plt.title(\"Mapa de Correlação\")\n",
        "plt.show()"
      ]
    },
    {
      "cell_type": "markdown",
      "metadata": {},
      "source": [
        "Apesar de correlacionar todas as variáveis o mais importante é a variável alvo, que é a `charges`, e as variáveis que mais se correlacionam com ela são:\n",
        "- `smoker` (0.787)\n",
        "- `age` (0.299)\n",
        "- `bmi` (0.198)\n",
        "\n",
        "Enquanto que as variáveis:\n",
        "- `sex` (0.057)\n",
        "- `children` (0.067)\n",
        "não possuem correlação significativa com a variável alvo, o que nos leva a crer que elas não são relevantes para o modelo."
      ]
    },
    {
      "cell_type": "markdown",
      "metadata": {},
      "source": [
        "Transformação da coluna `region` em variáveis dummy, para que possamos utilizar no modelo de regressão linear.\n",
        "Neste primeiro momento mantive todas as 4 variáveis para poder visualizar melhor a correlação entre elas."
      ]
    },
    {
      "cell_type": "code",
      "execution_count": 9,
      "metadata": {
        "id": "g5iUzCuDtb_Q"
      },
      "outputs": [],
      "source": [
        "df_encoded = pd.get_dummies(df_encoded, columns=[\"region\"], drop_first=False)"
      ]
    },
    {
      "cell_type": "code",
      "execution_count": 10,
      "metadata": {
        "id": "ZE9Z4qUgOiRo"
      },
      "outputs": [],
      "source": [
        "df_encoded = df_encoded.astype({col: int for col in df_encoded.select_dtypes('bool').columns})"
      ]
    },
    {
      "cell_type": "code",
      "execution_count": null,
      "metadata": {
        "colab": {
          "base_uri": "https://localhost:8080/",
          "height": 206
        },
        "id": "ch5so7Gmyafq",
        "outputId": "076bbdf3-da88-4925-c0bb-6f6bc1d9d65e"
      },
      "outputs": [],
      "source": [
        "df_encoded.head()"
      ]
    },
    {
      "cell_type": "markdown",
      "metadata": {},
      "source": []
    },
    {
      "cell_type": "markdown",
      "metadata": {},
      "source": [
        "Incluindo no mapa de correlação as variáveis dummy de região, podemos ver que a variável `region` não possui uma correlação significativa com a variável alvo, o que nos leva a crer que ela não é relevante para o modelo.\n",
        "\n",
        "Mas ainda assim a diante pretendo acrescentar uma nova variável transformando a região em uma variável categorica numérica, que pode trazer vantagens em modelos de Arvore de Decisão."
      ]
    },
    {
      "cell_type": "code",
      "execution_count": null,
      "metadata": {},
      "outputs": [],
      "source": [
        "region_columns = [\n",
        "    \"region_northwest\", \n",
        "    \"region_southeast\", \n",
        "    \"region_southwest\", \n",
        "    \"region_northeast\", \n",
        "    \"charges\"\n",
        "]\n",
        "corr_matrix = df_encoded.corr(numeric_only=True)\n",
        "region_corr = corr_matrix.loc[region_columns, region_columns]  # Filter only relevant columns\n",
        "\n",
        "plt.figure(figsize=(10, 6))\n",
        "sns.heatmap(\n",
        "    region_corr.sort_values(by=\"charges\", ascending=False), \n",
        "    annot=True, \n",
        "    cmap=\"coolwarm\", \n",
        "    fmt=\".2f\"\n",
        ")\n",
        "plt.title(\"Mapa de Correlação - Regiões vs Charges\")\n",
        "plt.tight_layout()\n",
        "plt.show()"
      ]
    },
    {
      "cell_type": "markdown",
      "metadata": {},
      "source": [
        "Adicionando a variável categorica de `regiao`"
      ]
    },
    {
      "cell_type": "code",
      "execution_count": null,
      "metadata": {},
      "outputs": [],
      "source": [
        "df_encoded[\"region_cat\"] = df[\"region\"].astype(\"category\").cat.codes\n",
        "df_encoded.head()\n"
      ]
    },
    {
      "cell_type": "markdown",
      "metadata": {},
      "source": [
        "Analizando a correlação da nova coluna em relação a variável alvo"
      ]
    },
    {
      "cell_type": "code",
      "execution_count": null,
      "metadata": {},
      "outputs": [],
      "source": []
    },
    {
      "cell_type": "markdown",
      "metadata": {
        "id": "g0_XKFqw33pL"
      },
      "source": [
        "# Modelagem e Treinamento"
      ]
    },
    {
      "cell_type": "code",
      "execution_count": 55,
      "metadata": {
        "id": "wJmltoQw34Jl"
      },
      "outputs": [],
      "source": [
        "from sklearn.model_selection import train_test_split\n",
        "\n",
        "X = df_encoded.drop(\"charges\", axis=1)\n",
        "y = df_encoded[\"charges\"]\n",
        "\n",
        "X_train, X_test, y_train, y_test = train_test_split(X, y, test_size=0.2, random_state=42)"
      ]
    },
    {
      "cell_type": "code",
      "execution_count": 56,
      "metadata": {
        "id": "-Ap3Omw5BvzR"
      },
      "outputs": [],
      "source": [
        "from sklearn.preprocessing import StandardScaler\n",
        "\n",
        "scaler = StandardScaler()\n",
        "\n",
        "X_train_scaled = scaler.fit_transform(X_train)\n",
        "X_test_scaled = scaler.transform(X_test)"
      ]
    },
    {
      "cell_type": "code",
      "execution_count": 57,
      "metadata": {
        "id": "r8Q-2dMs8ITe"
      },
      "outputs": [],
      "source": [
        "from sklearn.linear_model import LinearRegression\n",
        "\n",
        "model_linear_regression = LinearRegression()\n",
        "model_linear_regression.fit(X_train_scaled, y_train)\n",
        "\n",
        "y_pred_linear_regression = model_linear_regression.predict(X_test_scaled)"
      ]
    },
    {
      "cell_type": "code",
      "execution_count": 58,
      "metadata": {
        "id": "ePoDvilm8PLa"
      },
      "outputs": [],
      "source": [
        "from sklearn.linear_model import Ridge\n",
        "\n",
        "model_ridge = Ridge(alpha=1.0)\n",
        "model_ridge.fit(X_train_scaled, y_train)\n",
        "\n",
        "y_pred_ridge = model_ridge.predict(X_test_scaled)"
      ]
    },
    {
      "cell_type": "code",
      "execution_count": 59,
      "metadata": {
        "id": "CESxvm378Tgl"
      },
      "outputs": [],
      "source": [
        "from sklearn.linear_model import Lasso\n",
        "\n",
        "model_lasso = Lasso(alpha=1.0)\n",
        "model_lasso.fit(X_train_scaled, y_train)\n",
        "\n",
        "y_pred_lasso = model_lasso.predict(X_test_scaled)"
      ]
    },
    {
      "cell_type": "code",
      "execution_count": null,
      "metadata": {
        "id": "gKTJ8Ri5H5h7"
      },
      "outputs": [],
      "source": [
        "import statsmodels.api as sm\n",
        "\n",
        "X_train_sm = sm.add_constant(X_train).astype(float)\n",
        "X_test_sm = sm.add_constant(X_test).astype(float)\n",
        "y_train_sm = y_train.astype(float)\n",
        "\n",
        "model_ols = sm.OLS(y_train_sm, X_train_sm).fit()\n",
        "\n",
        "y_pred_ols = model_ols.predict(X_test_sm)"
      ]
    },
    {
      "cell_type": "markdown",
      "metadata": {
        "id": "4TXPXz-d4AVG"
      },
      "source": [
        "# Validação Estatística"
      ]
    },
    {
      "cell_type": "code",
      "execution_count": null,
      "metadata": {
        "colab": {
          "base_uri": "https://localhost:8080/",
          "height": 807
        },
        "id": "JAjCZfLY3_NV",
        "outputId": "3be54adb-defb-4887-b939-7c2cb3e165d5"
      },
      "outputs": [],
      "source": [
        "import matplotlib.pyplot as plt\n",
        "\n",
        "def grafico_de_comparacao(model, ax, y_test, y_pred):\n",
        "    ax.scatter(y_test, y_pred, alpha=0.5)\n",
        "    ax.plot([y_test.min(), y_test.max()], [y_test.min(), y_test.max()], 'r--')\n",
        "    ax.set_xlabel(\"Valores Reais\")\n",
        "    ax.set_ylabel(\"Valores Previstos\")\n",
        "    ax.set_title(f\"Previsão vs Real ({model})\")\n",
        "    ax.grid(True)\n",
        "\n",
        "fig, axs = plt.subplots(2, 2, figsize=(15, 8))\n",
        "\n",
        "grafico_de_comparacao(\"Linear Regression\", axs[0, 0], y_test, y_pred_linear_regression)\n",
        "grafico_de_comparacao(\"Ridge\", axs[0, 1], y_test, y_pred_ridge)\n",
        "grafico_de_comparacao(\"Lasso\", axs[1, 0], y_test, y_pred_lasso)\n",
        "grafico_de_comparacao(\"OLS\", axs[1, 1], y_test, y_pred_ols)\n",
        "\n",
        "plt.tight_layout()\n",
        "plt.show()"
      ]
    },
    {
      "cell_type": "code",
      "execution_count": null,
      "metadata": {
        "colab": {
          "base_uri": "https://localhost:8080/",
          "height": 143
        },
        "id": "8Igng_VMMyb0",
        "outputId": "a41cbc0a-8592-467b-e1a5-7f24feb44e23"
      },
      "outputs": [],
      "source": [
        "import numpy as np\n",
        "import pandas as pd\n",
        "from sklearn.metrics import mean_squared_error, r2_score\n",
        "\n",
        "def avaliacao_sklearn(y_test, y_pred):\n",
        "    r2 = r2_score(y_test, y_pred)\n",
        "    mse = mean_squared_error(y_test, y_pred)\n",
        "    rmse = np.sqrt(mse)\n",
        "    return {\"R²\": r2, \"MSE\": mse, \"RMSE\": rmse}\n",
        "\n",
        "pd.DataFrame({\n",
        "    \"Linear Regression\": avaliacao_sklearn(y_test, y_pred_linear_regression),\n",
        "    \"Ridge\": avaliacao_sklearn(y_test, y_pred_ridge),\n",
        "    \"Lasso\": avaliacao_sklearn(y_test, y_pred_lasso),\n",
        "}).T"
      ]
    },
    {
      "cell_type": "code",
      "execution_count": null,
      "metadata": {
        "colab": {
          "base_uri": "https://localhost:8080/",
          "height": 143
        },
        "id": "LF4HpIzeC0V5",
        "outputId": "8f5318ce-5b8e-443c-f18d-3904011310b4"
      },
      "outputs": [],
      "source": [
        "from sklearn.model_selection import KFold, cross_validate\n",
        "import numpy as np\n",
        "\n",
        "kf = KFold(n_splits=5, shuffle=True, random_state=42)\n",
        "\n",
        "def avaliacao_sklearn_kf(kf, model, X, y):\n",
        "    scoring = {\n",
        "        'r2': 'r2',\n",
        "        'mse': 'neg_mean_squared_error'\n",
        "    }\n",
        "\n",
        "    cv_results = cross_validate(\n",
        "        model, X, y,\n",
        "        cv=kf,\n",
        "        scoring=scoring,\n",
        "        return_train_score=False\n",
        "    )\n",
        "\n",
        "    r2_scores  = cv_results['test_r2']\n",
        "    mse_scores = -cv_results['test_mse']\n",
        "    rmse_scores = np.sqrt(mse_scores)\n",
        "\n",
        "    return {\n",
        "        \"R²\": f\"{r2_scores.mean():.4f} (+/- {r2_scores.std():.4f})\",\n",
        "        \"MSE\": f\"{mse_scores.mean():.4f} (+/- {mse_scores.std():.4f})\",\n",
        "        \"RMSE\": f\"{rmse_scores.mean():.4f} (+/- {rmse_scores.std():.4f})\",\n",
        "    }\n",
        "\n",
        "pd.DataFrame({\n",
        "    \"Linear Regression\": avaliacao_sklearn_kf(kf, model_linear_regression, X, y),\n",
        "    \"Ridge\": avaliacao_sklearn_kf(kf, model_ridge, X, y),\n",
        "    \"Lasso\": avaliacao_sklearn_kf(kf, model_lasso, X, y),\n",
        "}).T"
      ]
    },
    {
      "cell_type": "code",
      "execution_count": null,
      "metadata": {
        "colab": {
          "base_uri": "https://localhost:8080/"
        },
        "id": "8t0ychKmUC4l",
        "outputId": "550f7b1d-4990-4e22-a82a-544707912ad7"
      },
      "outputs": [],
      "source": [
        "def avaliacao_statsmodels(model):\n",
        "  print(model.summary())\n",
        "  print(model.conf_int())\n",
        "\n",
        "avaliacao_statsmodels(model_ols)"
      ]
    },
    {
      "cell_type": "markdown",
      "metadata": {
        "id": "21Pn1av0xgHW"
      },
      "source": [
        "# Relatório\n",
        "\n",
        "## Resultados\n",
        "\n",
        "✅ **R² = 0.742**\n",
        "\n",
        "Esse número mostra quanto o modelo conseguiu explicar os custos médicos com base nas informações fornecidas.\n",
        "\n",
        "* Quanto mais perto de 1 (ou 100%), melhor o modelo está explicando os dados.\n",
        "* Neste caso, o R² de 0.742 significa que 74,2% das diferenças nos custos médicos entre as pessoas podem ser previstas pelas variáveis usadas no modelo.\n",
        "\n",
        "✅ **R² ajustado = 0.740**\n",
        "\n",
        "Esse é um valor similar ao R², mas que leva em conta o número de variáveis usadas no modelo.\n",
        "\n",
        "* Se o R² ajustado for muito diferente do R², pode indicar que o modelo está tentando usar variáveis desnecessárias.\n",
        "* Neste caso, como o R² ajustado (0.740) é quase igual ao R² (0.742), isso mostra que as variáveis escolhidas são realmente úteis e não há problemas de *overfitting*.\n",
        "\n",
        "✅ **F-statistic = 380.9, com p-value muito baixo (< 0.001)**\n",
        "\n",
        "Esse teste avalia se o modelo é estatisticamente confiável.\n",
        "\n",
        "* O p-value muito baixo significa que é quase impossível que esse resultado tenha ocorrido por acaso.\n",
        "* Em outras palavras, podemos confiar no modelo como um todo.\n",
        "\n",
        "## Validação Estatística\n",
        "\n",
        "| Variável          | Coeficiente | p-value | Interpretação                                                  |\n",
        "| ----------------- | ----------- | ------- | -------------------------------------------------------------- |\n",
        "| age               | 256.98      | <0.001  | Cada ano a mais de idade aumenta, em média, \\$ 256 nos custos. |\n",
        "| sex               | -18.59      | 0.961   | Não tem impacto significativo.                                 |\n",
        "| bmi               | 337.09      | <0.001  | Cada ponto a mais de IMC aumenta, em média, \\$ 337 nos custos. |\n",
        "| children          | 425.28      | 0.006   | Ter filhos está relacionado a um aumento nos custos.           |\n",
        "| smoker            | 23.650      | <0.001  | Fumar aumenta os custos, em média, \\$ 23.650.                  |\n",
        "| region\\_northwest | -370.68     | 0.490   | Não tem impacto significativo.                                 |\n",
        "| region\\_southeast | -657.86     | 0.223   | Não tem impacto significativo.                                 |\n",
        "| region\\_southwest | -809.80     | 0.131   | Não tem impacto significativo.                                 |\n",
        "\n",
        "Somente as variáveis `age`, `bmi`, `children` e `smoker` apresentaram impacto estatisticamente significativo (p-value < 0.05).\n",
        "\n",
        "## Insights Obtidos\n",
        "\n",
        "* Fumar é o principal fator que aumenta os custos médicos, com um impacto médio de mais de \\$ 23 mil.\n",
        "* A idade e o IMC também são bons preditores dos custos médicos.\n",
        "* O número de filhos tem um impacto moderado, mas é estatisticamente significativo.\n",
        "* O sexo e a região não têm relevância estatística no modelo, ou seja, esses fatores não parecem influenciar diretamente os custos médicos quando consideramos as outras variáveis."
      ]
    },
    {
      "cell_type": "markdown",
      "metadata": {
        "id": "fzDTze0hCz3p"
      },
      "source": [
        "# Extra"
      ]
    },
    {
      "cell_type": "code",
      "execution_count": null,
      "metadata": {
        "colab": {
          "base_uri": "https://localhost:8080/",
          "height": 81
        },
        "id": "V-kheRraC0Yh",
        "outputId": "7e259130-1caa-4d06-f8db-c91e2d606d20"
      },
      "outputs": [],
      "source": [
        "from sklearn.ensemble import RandomForestRegressor\n",
        "\n",
        "model_random_forest_regressor = RandomForestRegressor()\n",
        "model_random_forest_regressor.fit(X_train, y_train)\n",
        "\n",
        "pd.DataFrame({\n",
        "    \"Random Forest Regressor\": avaliacao_sklearn_kf(kf, model_random_forest_regressor, X, y)\n",
        "}).T"
      ]
    }
  ],
  "metadata": {
    "colab": {
      "provenance": []
    },
    "kernelspec": {
      "display_name": ".venv",
      "language": "python",
      "name": "python3"
    },
    "language_info": {
      "codemirror_mode": {
        "name": "ipython",
        "version": 3
      },
      "file_extension": ".py",
      "mimetype": "text/x-python",
      "name": "python",
      "nbconvert_exporter": "python",
      "pygments_lexer": "ipython3",
      "version": "3.13.2"
    }
  },
  "nbformat": 4,
  "nbformat_minor": 0
}
